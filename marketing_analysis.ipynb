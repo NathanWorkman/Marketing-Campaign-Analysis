{
 "cells": [
  {
   "cell_type": "markdown",
   "metadata": {},
   "source": [
    "# Executive Summary"
   ]
  },
  {
   "cell_type": "markdown",
   "metadata": {},
   "source": [
    "The overall conversion rate was 11% where email was the most successful in subscring users and the most cost-effective while direct mail was the least successful and the least cost-effective. On average, users subscribed on the same day they saw the ad. Starting from age 19, conversion rates tend to decrease as users are in older age groups. \n",
    "\n",
    "To improve conversion rates while keeping cost-per-acquisition low, the efforts on direct mailing should be diverted towards email, Facebook and Instagram (depending on target client) marketing instead.\n",
    "\n",
    "The overall retention rate was 68% and users canceled their subscription after 48 days on average. Ages 19 to 24 had the highest retention rate while ages 45 to 55 had the lowest. Furthermore, there seems to be no apparent relationship between age and retention rate.\n",
    "\n",
    "To improve retention, email newsletters could be sent during the first 48 days to encourage users' engagement with the product. Understanding what happens in that 48-day period (e.g. by analyzing user behavior data) can help improve product experience for new users and improve retention rate."
   ]
  },
  {
   "cell_type": "markdown",
   "metadata": {},
   "source": [
    "# 1. Import data"
   ]
  },
  {
   "cell_type": "code",
   "execution_count": 2,
   "metadata": {},
   "outputs": [],
   "source": [
    "import pandas as pd\n",
    "import numpy as np"
   ]
  },
  {
   "cell_type": "code",
   "execution_count": 3,
   "metadata": {},
   "outputs": [
    {
     "name": "stdout",
     "output_type": "stream",
     "text": [
      "<class 'pandas.core.frame.DataFrame'>\n",
      "RangeIndex: 10037 entries, 0 to 10036\n",
      "Data columns (total 12 columns):\n",
      " #   Column               Non-Null Count  Dtype \n",
      "---  ------               --------------  ----- \n",
      " 0   user_id              10037 non-null  object\n",
      " 1   date_served          10021 non-null  object\n",
      " 2   marketing_channel    10022 non-null  object\n",
      " 3   variant              10037 non-null  object\n",
      " 4   converted            10022 non-null  object\n",
      " 5   language_displayed   10037 non-null  object\n",
      " 6   language_preferred   10037 non-null  object\n",
      " 7   age_group            10037 non-null  object\n",
      " 8   date_subscribed      1856 non-null   object\n",
      " 9   date_canceled        577 non-null    object\n",
      " 10  subscribing_channel  1856 non-null   object\n",
      " 11  is_retained          1856 non-null   object\n",
      "dtypes: object(12)\n",
      "memory usage: 941.1+ KB\n"
     ]
    }
   ],
   "source": [
    "dat = pd.read_csv('marketing1.csv')\n",
    "dat.info()"
   ]
  },
  {
   "cell_type": "code",
   "execution_count": 3,
   "metadata": {},
   "outputs": [
    {
     "data": {
      "text/html": [
       "<div>\n",
       "<style scoped>\n",
       "    .dataframe tbody tr th:only-of-type {\n",
       "        vertical-align: middle;\n",
       "    }\n",
       "\n",
       "    .dataframe tbody tr th {\n",
       "        vertical-align: top;\n",
       "    }\n",
       "\n",
       "    .dataframe thead th {\n",
       "        text-align: right;\n",
       "    }\n",
       "</style>\n",
       "<table border=\"1\" class=\"dataframe\">\n",
       "  <thead>\n",
       "    <tr style=\"text-align: right;\">\n",
       "      <th></th>\n",
       "      <th>user_id</th>\n",
       "      <th>date_served</th>\n",
       "      <th>marketing_channel</th>\n",
       "      <th>variant</th>\n",
       "      <th>converted</th>\n",
       "      <th>language_displayed</th>\n",
       "      <th>language_preferred</th>\n",
       "      <th>age_group</th>\n",
       "      <th>date_subscribed</th>\n",
       "      <th>date_canceled</th>\n",
       "      <th>subscribing_channel</th>\n",
       "      <th>is_retained</th>\n",
       "    </tr>\n",
       "  </thead>\n",
       "  <tbody>\n",
       "    <tr>\n",
       "      <th>10032</th>\n",
       "      <td>a100007290</td>\n",
       "      <td>1/17/18</td>\n",
       "      <td>Email</td>\n",
       "      <td>control</td>\n",
       "      <td>True</td>\n",
       "      <td>German</td>\n",
       "      <td>German</td>\n",
       "      <td>45-55 years</td>\n",
       "      <td>1/17/18</td>\n",
       "      <td>1/24/18</td>\n",
       "      <td>Email</td>\n",
       "      <td>False</td>\n",
       "    </tr>\n",
       "    <tr>\n",
       "      <th>10033</th>\n",
       "      <td>a100007291</td>\n",
       "      <td>1/17/18</td>\n",
       "      <td>Email</td>\n",
       "      <td>control</td>\n",
       "      <td>True</td>\n",
       "      <td>German</td>\n",
       "      <td>German</td>\n",
       "      <td>55+ years</td>\n",
       "      <td>1/17/18</td>\n",
       "      <td>NaN</td>\n",
       "      <td>Email</td>\n",
       "      <td>True</td>\n",
       "    </tr>\n",
       "    <tr>\n",
       "      <th>10034</th>\n",
       "      <td>a100007292</td>\n",
       "      <td>1/5/18</td>\n",
       "      <td>Instagram</td>\n",
       "      <td>control</td>\n",
       "      <td>False</td>\n",
       "      <td>German</td>\n",
       "      <td>German</td>\n",
       "      <td>55+ years</td>\n",
       "      <td>1/17/18</td>\n",
       "      <td>NaN</td>\n",
       "      <td>Email</td>\n",
       "      <td>True</td>\n",
       "    </tr>\n",
       "    <tr>\n",
       "      <th>10035</th>\n",
       "      <td>a100007293</td>\n",
       "      <td>1/17/18</td>\n",
       "      <td>Email</td>\n",
       "      <td>control</td>\n",
       "      <td>True</td>\n",
       "      <td>German</td>\n",
       "      <td>German</td>\n",
       "      <td>0-18 years</td>\n",
       "      <td>1/17/18</td>\n",
       "      <td>NaN</td>\n",
       "      <td>Email</td>\n",
       "      <td>True</td>\n",
       "    </tr>\n",
       "    <tr>\n",
       "      <th>10036</th>\n",
       "      <td>a100007294</td>\n",
       "      <td>1/6/18</td>\n",
       "      <td>Facebook</td>\n",
       "      <td>control</td>\n",
       "      <td>False</td>\n",
       "      <td>German</td>\n",
       "      <td>German</td>\n",
       "      <td>0-18 years</td>\n",
       "      <td>1/17/18</td>\n",
       "      <td>NaN</td>\n",
       "      <td>Email</td>\n",
       "      <td>True</td>\n",
       "    </tr>\n",
       "  </tbody>\n",
       "</table>\n",
       "</div>"
      ],
      "text/plain": [
       "          user_id date_served marketing_channel  variant converted  \\\n",
       "10032  a100007290     1/17/18             Email  control      True   \n",
       "10033  a100007291     1/17/18             Email  control      True   \n",
       "10034  a100007292      1/5/18         Instagram  control     False   \n",
       "10035  a100007293     1/17/18             Email  control      True   \n",
       "10036  a100007294      1/6/18          Facebook  control     False   \n",
       "\n",
       "      language_displayed language_preferred    age_group date_subscribed  \\\n",
       "10032             German             German  45-55 years         1/17/18   \n",
       "10033             German             German    55+ years         1/17/18   \n",
       "10034             German             German    55+ years         1/17/18   \n",
       "10035             German             German   0-18 years         1/17/18   \n",
       "10036             German             German   0-18 years         1/17/18   \n",
       "\n",
       "      date_canceled subscribing_channel is_retained  \n",
       "10032       1/24/18               Email       False  \n",
       "10033           NaN               Email        True  \n",
       "10034           NaN               Email        True  \n",
       "10035           NaN               Email        True  \n",
       "10036           NaN               Email        True  "
      ]
     },
     "execution_count": 3,
     "metadata": {},
     "output_type": "execute_result"
    }
   ],
   "source": [
    "dat.tail()"
   ]
  },
  {
   "cell_type": "markdown",
   "metadata": {},
   "source": [
    "# 2. Convert data format"
   ]
  },
  {
   "cell_type": "markdown",
   "metadata": {},
   "source": [
    "Are 'marketing_channel', 'variant', 'language_displayed', 'language_preferred', 'age_group', and 'subscribing_channel' categorical values? Yes, and all the values seem to be consistent (no duplicate values with different spelling, etc)."
   ]
  },
  {
   "cell_type": "code",
   "execution_count": 4,
   "metadata": {},
   "outputs": [
    {
     "name": "stdout",
     "output_type": "stream",
     "text": [
      "['House Ads' 'Push' 'Facebook' 'Instagram' 'Email' nan]\n",
      "['personalization' 'control']\n",
      "['English' 'German' 'Arabic' 'Spanish']\n",
      "['English' 'German' 'Arabic' 'Spanish']\n",
      "['0-18 years' '19-24 years' '24-30 years' '30-36 years' '36-45 years'\n",
      " '45-55 years' '55+ years']\n",
      "['House Ads' 'Email' 'Push' 'Facebook' 'Instagram' nan]\n"
     ]
    }
   ],
   "source": [
    "for i in ['marketing_channel', 'variant', 'language_displayed', 'language_preferred', 'age_group', 'subscribing_channel']:\n",
    "    print(dat.loc[:,i].unique())"
   ]
  },
  {
   "cell_type": "markdown",
   "metadata": {},
   "source": [
    "Since they are indeed categorical values, the data format should be changed as categories."
   ]
  },
  {
   "cell_type": "code",
   "execution_count": 5,
   "metadata": {},
   "outputs": [],
   "source": [
    "for i in ['marketing_channel', 'variant', 'language_displayed', 'language_preferred', 'age_group', 'subscribing_channel']:\n",
    "    dat[i] = dat[i].astype(\"category\")"
   ]
  },
  {
   "cell_type": "markdown",
   "metadata": {},
   "source": [
    "What about other columns? The first few rows of the dataset shows that 'converted' and 'is_retained' should be either True or False values and that 'date_served','date_subscribed',and 'date_canceled' are date values. "
   ]
  },
  {
   "cell_type": "code",
   "execution_count": 6,
   "metadata": {},
   "outputs": [],
   "source": [
    "for i in ['converted','is_retained']:\n",
    "    dat[i] = dat[i].astype('bool') # converting 'converted', and 'is_retained' to boolean values\n",
    "for i in ['date_served','date_subscribed','date_canceled']:\n",
    "    dat[i] = pd.to_datetime(dat[i], format='%m/%d/%y') # converting the date variables to Datetime objects"
   ]
  },
  {
   "cell_type": "markdown",
   "metadata": {},
   "source": [
    "Checking if the data are now in the right format! It looks good! Note: user_id is already in the str (string) format."
   ]
  },
  {
   "cell_type": "code",
   "execution_count": 103,
   "metadata": {},
   "outputs": [
    {
     "name": "stdout",
     "output_type": "stream",
     "text": [
      "<class 'pandas.core.frame.DataFrame'>\n",
      "RangeIndex: 10037 entries, 0 to 10036\n",
      "Data columns (total 12 columns):\n",
      " #   Column               Non-Null Count  Dtype         \n",
      "---  ------               --------------  -----         \n",
      " 0   user_id              10037 non-null  object        \n",
      " 1   date_served          10021 non-null  datetime64[ns]\n",
      " 2   marketing_channel    10022 non-null  category      \n",
      " 3   variant              10037 non-null  category      \n",
      " 4   converted            10037 non-null  bool          \n",
      " 5   language_displayed   10037 non-null  category      \n",
      " 6   language_preferred   10037 non-null  category      \n",
      " 7   age_group            10037 non-null  category      \n",
      " 8   date_subscribed      1856 non-null   datetime64[ns]\n",
      " 9   date_canceled        577 non-null    datetime64[ns]\n",
      " 10  subscribing_channel  1856 non-null   category      \n",
      " 11  is_retained          10037 non-null  bool          \n",
      "dtypes: bool(2), category(6), datetime64[ns](3), object(1)\n",
      "memory usage: 393.5+ KB\n"
     ]
    }
   ],
   "source": [
    "dat.info()"
   ]
  },
  {
   "cell_type": "markdown",
   "metadata": {},
   "source": [
    "# 3. Explore the data!"
   ]
  },
  {
   "cell_type": "markdown",
   "metadata": {},
   "source": [
    "1. Before calculating the conversion rate, conducting exploratory data analysis should help understand the data better.\n",
    "First, if 'date_canceled' is non-empty, 'is_retained' always False (is 'date_canceled' and 'is_retained'=True mutually exclusive)? Yes, if 'is_retained' is True, then 'date_canceled' = 'NaT' only and no other values."
   ]
  },
  {
   "cell_type": "code",
   "execution_count": 10,
   "metadata": {},
   "outputs": [
    {
     "data": {
      "text/plain": [
       "array(['NaT'], dtype='datetime64[ns]')"
      ]
     },
     "execution_count": 10,
     "metadata": {},
     "output_type": "execute_result"
    }
   ],
   "source": [
    "dat.loc[dat.is_retained == True].date_canceled.unique()"
   ]
  },
  {
   "cell_type": "markdown",
   "metadata": {},
   "source": [
    "2. Throughout the campaign, how did the ad view fluctuate? The view seems to fluctuate around 300 views/day. There was a peak on January 15th - about 750 people saw the ad. During the last week of January (21st-26th) the ad had the lowest number of views. "
   ]
  },
  {
   "cell_type": "code",
   "execution_count": 7,
   "metadata": {},
   "outputs": [
    {
     "data": {
      "text/plain": [
       "<AxesSubplot:xlabel='date_served'>"
      ]
     },
     "execution_count": 7,
     "metadata": {},
     "output_type": "execute_result"
    },
    {
     "data": {
      "image/png": "[encoded data removed]",
      "text/plain": [
       "<Figure size 432x288 with 1 Axes>"
      ]
     },
     "metadata": {
      "needs_background": "light"
     },
     "output_type": "display_data"
    }
   ],
   "source": [
    "ad_views = dat.groupby(['date_served'])['user_id'].nunique()\n",
    "ad_views.plot()"
   ]
  },
  {
   "cell_type": "markdown",
   "metadata": {},
   "source": [
    "How many unique people are in this dataset and can a user have multiple data?"
   ]
  },
  {
   "cell_type": "code",
   "execution_count": 19,
   "metadata": {},
   "outputs": [
    {
     "name": "stdout",
     "output_type": "stream",
     "text": [
      "There are 10037 instances/observations in this dataset and 7309 unique users\n"
     ]
    }
   ],
   "source": [
    "print(\"There are \"+ str(len(dat)) + \" instances/observations in this dataset and \" + str(dat['user_id'].nunique()) + \" unique users\")"
   ]
  },
  {
   "cell_type": "markdown",
   "metadata": {},
   "source": [
    "3. To investigate further on \"duplicate users\", the dataset is filtered and saved as another dataset. Looking at the first few lines of the saved dataset, it can be observed that a user can have multiple unique 'date_served' values, meaning a user saw the ad multiple times on different days. "
   ]
  },
  {
   "cell_type": "code",
   "execution_count": 8,
   "metadata": {},
   "outputs": [
    {
     "data": {
      "text/html": [
       "<div>\n",
       "<style scoped>\n",
       "    .dataframe tbody tr th:only-of-type {\n",
       "        vertical-align: middle;\n",
       "    }\n",
       "\n",
       "    .dataframe tbody tr th {\n",
       "        vertical-align: top;\n",
       "    }\n",
       "\n",
       "    .dataframe thead th {\n",
       "        text-align: right;\n",
       "    }\n",
       "</style>\n",
       "<table border=\"1\" class=\"dataframe\">\n",
       "  <thead>\n",
       "    <tr style=\"text-align: right;\">\n",
       "      <th></th>\n",
       "      <th>user_id</th>\n",
       "      <th>date_served</th>\n",
       "      <th>marketing_channel</th>\n",
       "      <th>variant</th>\n",
       "      <th>converted</th>\n",
       "      <th>language_displayed</th>\n",
       "      <th>language_preferred</th>\n",
       "      <th>age_group</th>\n",
       "      <th>date_subscribed</th>\n",
       "      <th>date_canceled</th>\n",
       "      <th>subscribing_channel</th>\n",
       "      <th>is_retained</th>\n",
       "    </tr>\n",
       "  </thead>\n",
       "  <tbody>\n",
       "    <tr>\n",
       "      <th>21</th>\n",
       "      <td>a100000050</td>\n",
       "      <td>2018-01-02</td>\n",
       "      <td>House Ads</td>\n",
       "      <td>personalization</td>\n",
       "      <td>True</td>\n",
       "      <td>English</td>\n",
       "      <td>English</td>\n",
       "      <td>24-30 years</td>\n",
       "      <td>2018-01-02</td>\n",
       "      <td>NaT</td>\n",
       "      <td>House Ads</td>\n",
       "      <td>True</td>\n",
       "    </tr>\n",
       "    <tr>\n",
       "      <th>22</th>\n",
       "      <td>a100000050</td>\n",
       "      <td>2018-01-01</td>\n",
       "      <td>House Ads</td>\n",
       "      <td>personalization</td>\n",
       "      <td>False</td>\n",
       "      <td>English</td>\n",
       "      <td>English</td>\n",
       "      <td>24-30 years</td>\n",
       "      <td>2018-01-02</td>\n",
       "      <td>NaT</td>\n",
       "      <td>House Ads</td>\n",
       "      <td>True</td>\n",
       "    </tr>\n",
       "    <tr>\n",
       "      <th>23</th>\n",
       "      <td>a100000051</td>\n",
       "      <td>2018-01-02</td>\n",
       "      <td>House Ads</td>\n",
       "      <td>personalization</td>\n",
       "      <td>True</td>\n",
       "      <td>English</td>\n",
       "      <td>English</td>\n",
       "      <td>30-36 years</td>\n",
       "      <td>2018-01-02</td>\n",
       "      <td>NaT</td>\n",
       "      <td>House Ads</td>\n",
       "      <td>True</td>\n",
       "    </tr>\n",
       "    <tr>\n",
       "      <th>24</th>\n",
       "      <td>a100000051</td>\n",
       "      <td>2018-01-01</td>\n",
       "      <td>Push</td>\n",
       "      <td>personalization</td>\n",
       "      <td>False</td>\n",
       "      <td>English</td>\n",
       "      <td>English</td>\n",
       "      <td>30-36 years</td>\n",
       "      <td>2018-01-02</td>\n",
       "      <td>NaT</td>\n",
       "      <td>House Ads</td>\n",
       "      <td>True</td>\n",
       "    </tr>\n",
       "    <tr>\n",
       "      <th>25</th>\n",
       "      <td>a100000052</td>\n",
       "      <td>2018-01-02</td>\n",
       "      <td>House Ads</td>\n",
       "      <td>personalization</td>\n",
       "      <td>True</td>\n",
       "      <td>English</td>\n",
       "      <td>English</td>\n",
       "      <td>36-45 years</td>\n",
       "      <td>2018-01-02</td>\n",
       "      <td>NaT</td>\n",
       "      <td>House Ads</td>\n",
       "      <td>True</td>\n",
       "    </tr>\n",
       "  </tbody>\n",
       "</table>\n",
       "</div>"
      ],
      "text/plain": [
       "       user_id date_served marketing_channel          variant  converted  \\\n",
       "21  a100000050  2018-01-02         House Ads  personalization       True   \n",
       "22  a100000050  2018-01-01         House Ads  personalization      False   \n",
       "23  a100000051  2018-01-02         House Ads  personalization       True   \n",
       "24  a100000051  2018-01-01              Push  personalization      False   \n",
       "25  a100000052  2018-01-02         House Ads  personalization       True   \n",
       "\n",
       "   language_displayed language_preferred    age_group date_subscribed  \\\n",
       "21            English            English  24-30 years      2018-01-02   \n",
       "22            English            English  24-30 years      2018-01-02   \n",
       "23            English            English  30-36 years      2018-01-02   \n",
       "24            English            English  30-36 years      2018-01-02   \n",
       "25            English            English  36-45 years      2018-01-02   \n",
       "\n",
       "   date_canceled subscribing_channel  is_retained  \n",
       "21           NaT           House Ads         True  \n",
       "22           NaT           House Ads         True  \n",
       "23           NaT           House Ads         True  \n",
       "24           NaT           House Ads         True  \n",
       "25           NaT           House Ads         True  "
      ]
     },
     "execution_count": 8,
     "metadata": {},
     "output_type": "execute_result"
    }
   ],
   "source": [
    "duplicate_user = dat[dat.duplicated(subset=['user_id'], keep=False)]\n",
    "duplicate_user.head()"
   ]
  },
  {
   "cell_type": "markdown",
   "metadata": {},
   "source": [
    "4. Is it possible that a user saw the ad multiple times within the same day? Yes, plotting the total times the ad is viewed vs. the number of unique dates viewed for each user, it can be observed that there are instances where a few users saw the ad within the same day (where the blue line is not covered by the orange line) - so no need to worry if the data records only the **first** or the **last** time if a user views the ad multiple times within the same day."
   ]
  },
  {
   "cell_type": "code",
   "execution_count": 9,
   "metadata": {},
   "outputs": [
    {
     "data": {
      "text/plain": [
       "<AxesSubplot:xlabel='user_id'>"
      ]
     },
     "execution_count": 9,
     "metadata": {},
     "output_type": "execute_result"
    },
    {
     "data": {
      "image/png": "[encoded data removed]",
      "text/plain": [
       "<Figure size 432x288 with 1 Axes>"
      ]
     },
     "metadata": {
      "needs_background": "light"
     },
     "output_type": "display_data"
    }
   ],
   "source": [
    "duplicate_user_dates = duplicate_user[duplicate_user.date_served.notnull()] #only non-empty dates should be considered\n",
    "\n",
    "total_viewed = duplicate_user_dates.groupby(['user_id']).date_served.count().to_frame() #number of total instances a user views the ad\n",
    "unique_viewed = duplicate_user_dates.groupby(['user_id']).date_served.nunique().to_frame() #number of unique dates a user views the ad\n",
    "\n",
    "df = pd.concat([total_viewed,unique_viewed], axis=1, ignore_index=True)\n",
    "df.columns = ['total_viewed','unique_viewed']\n",
    "\n",
    "df.plot()"
   ]
  },
  {
   "cell_type": "markdown",
   "metadata": {},
   "source": [
    "5. Let's see how many times the ad was shown to most users. From this histogram, it can be observed that most of the users saw the ad twice. There are a few users who saw the ad eleven times!"
   ]
  },
  {
   "cell_type": "code",
   "execution_count": 10,
   "metadata": {},
   "outputs": [
    {
     "data": {
      "text/plain": [
       "<AxesSubplot:>"
      ]
     },
     "execution_count": 10,
     "metadata": {},
     "output_type": "execute_result"
    },
    {
     "data": {
      "image/png": "[encoded data removed]",
      "text/plain": [
       "<Figure size 432x288 with 1 Axes>"
      ]
     },
     "metadata": {
      "needs_background": "light"
     },
     "output_type": "display_data"
    }
   ],
   "source": [
    "df = dat[dat.date_served.notnull()] #only non-empty dates should be considered\n",
    "df.groupby(['user_id']).date_served.count().hist(align='right', color='green')"
   ]
  },
  {
   "cell_type": "markdown",
   "metadata": {},
   "source": [
    "6. How is each data different for users who saw the ad multiple times on the same day? It can be observed that the ad was shown to users multiple times a day with different marketing channels and different results (converted=True/False)."
   ]
  },
  {
   "cell_type": "code",
   "execution_count": 11,
   "metadata": {},
   "outputs": [
    {
     "data": {
      "text/html": [
       "<div>\n",
       "<style scoped>\n",
       "    .dataframe tbody tr th:only-of-type {\n",
       "        vertical-align: middle;\n",
       "    }\n",
       "\n",
       "    .dataframe tbody tr th {\n",
       "        vertical-align: top;\n",
       "    }\n",
       "\n",
       "    .dataframe thead th {\n",
       "        text-align: right;\n",
       "    }\n",
       "</style>\n",
       "<table border=\"1\" class=\"dataframe\">\n",
       "  <thead>\n",
       "    <tr style=\"text-align: right;\">\n",
       "      <th></th>\n",
       "      <th>user_id</th>\n",
       "      <th>date_served</th>\n",
       "      <th>marketing_channel</th>\n",
       "      <th>variant</th>\n",
       "      <th>converted</th>\n",
       "      <th>language_displayed</th>\n",
       "      <th>language_preferred</th>\n",
       "      <th>age_group</th>\n",
       "      <th>date_subscribed</th>\n",
       "      <th>date_canceled</th>\n",
       "      <th>subscribing_channel</th>\n",
       "      <th>is_retained</th>\n",
       "    </tr>\n",
       "  </thead>\n",
       "  <tbody>\n",
       "    <tr>\n",
       "      <th>445</th>\n",
       "      <td>a100000617</td>\n",
       "      <td>2018-01-30</td>\n",
       "      <td>Facebook</td>\n",
       "      <td>control</td>\n",
       "      <td>True</td>\n",
       "      <td>English</td>\n",
       "      <td>English</td>\n",
       "      <td>55+ years</td>\n",
       "      <td>2018-01-30</td>\n",
       "      <td>NaT</td>\n",
       "      <td>Facebook</td>\n",
       "      <td>True</td>\n",
       "    </tr>\n",
       "    <tr>\n",
       "      <th>446</th>\n",
       "      <td>a100000617</td>\n",
       "      <td>2018-01-30</td>\n",
       "      <td>Facebook</td>\n",
       "      <td>control</td>\n",
       "      <td>False</td>\n",
       "      <td>English</td>\n",
       "      <td>English</td>\n",
       "      <td>55+ years</td>\n",
       "      <td>2018-01-30</td>\n",
       "      <td>NaT</td>\n",
       "      <td>Facebook</td>\n",
       "      <td>True</td>\n",
       "    </tr>\n",
       "    <tr>\n",
       "      <th>447</th>\n",
       "      <td>a100000618</td>\n",
       "      <td>2018-01-31</td>\n",
       "      <td>Facebook</td>\n",
       "      <td>control</td>\n",
       "      <td>True</td>\n",
       "      <td>English</td>\n",
       "      <td>English</td>\n",
       "      <td>0-18 years</td>\n",
       "      <td>2018-01-31</td>\n",
       "      <td>NaT</td>\n",
       "      <td>Facebook</td>\n",
       "      <td>True</td>\n",
       "    </tr>\n",
       "    <tr>\n",
       "      <th>448</th>\n",
       "      <td>a100000618</td>\n",
       "      <td>2018-01-31</td>\n",
       "      <td>Facebook</td>\n",
       "      <td>control</td>\n",
       "      <td>False</td>\n",
       "      <td>English</td>\n",
       "      <td>English</td>\n",
       "      <td>0-18 years</td>\n",
       "      <td>2018-01-31</td>\n",
       "      <td>NaT</td>\n",
       "      <td>Facebook</td>\n",
       "      <td>True</td>\n",
       "    </tr>\n",
       "    <tr>\n",
       "      <th>449</th>\n",
       "      <td>a100000619</td>\n",
       "      <td>2018-01-21</td>\n",
       "      <td>Facebook</td>\n",
       "      <td>control</td>\n",
       "      <td>True</td>\n",
       "      <td>English</td>\n",
       "      <td>English</td>\n",
       "      <td>19-24 years</td>\n",
       "      <td>2018-01-21</td>\n",
       "      <td>NaT</td>\n",
       "      <td>Facebook</td>\n",
       "      <td>True</td>\n",
       "    </tr>\n",
       "    <tr>\n",
       "      <th>...</th>\n",
       "      <td>...</td>\n",
       "      <td>...</td>\n",
       "      <td>...</td>\n",
       "      <td>...</td>\n",
       "      <td>...</td>\n",
       "      <td>...</td>\n",
       "      <td>...</td>\n",
       "      <td>...</td>\n",
       "      <td>...</td>\n",
       "      <td>...</td>\n",
       "      <td>...</td>\n",
       "      <td>...</td>\n",
       "    </tr>\n",
       "    <tr>\n",
       "      <th>8514</th>\n",
       "      <td>a100005694</td>\n",
       "      <td>2018-01-31</td>\n",
       "      <td>Push</td>\n",
       "      <td>personalization</td>\n",
       "      <td>False</td>\n",
       "      <td>English</td>\n",
       "      <td>English</td>\n",
       "      <td>19-24 years</td>\n",
       "      <td>NaT</td>\n",
       "      <td>NaT</td>\n",
       "      <td>NaN</td>\n",
       "      <td>True</td>\n",
       "    </tr>\n",
       "    <tr>\n",
       "      <th>8515</th>\n",
       "      <td>a100005695</td>\n",
       "      <td>2018-01-31</td>\n",
       "      <td>House Ads</td>\n",
       "      <td>personalization</td>\n",
       "      <td>False</td>\n",
       "      <td>English</td>\n",
       "      <td>English</td>\n",
       "      <td>24-30 years</td>\n",
       "      <td>NaT</td>\n",
       "      <td>NaT</td>\n",
       "      <td>NaN</td>\n",
       "      <td>True</td>\n",
       "    </tr>\n",
       "    <tr>\n",
       "      <th>8516</th>\n",
       "      <td>a100005695</td>\n",
       "      <td>2018-01-31</td>\n",
       "      <td>Facebook</td>\n",
       "      <td>personalization</td>\n",
       "      <td>False</td>\n",
       "      <td>English</td>\n",
       "      <td>English</td>\n",
       "      <td>24-30 years</td>\n",
       "      <td>NaT</td>\n",
       "      <td>NaT</td>\n",
       "      <td>NaN</td>\n",
       "      <td>True</td>\n",
       "    </tr>\n",
       "    <tr>\n",
       "      <th>8517</th>\n",
       "      <td>a100005696</td>\n",
       "      <td>2018-01-31</td>\n",
       "      <td>House Ads</td>\n",
       "      <td>personalization</td>\n",
       "      <td>False</td>\n",
       "      <td>English</td>\n",
       "      <td>English</td>\n",
       "      <td>30-36 years</td>\n",
       "      <td>NaT</td>\n",
       "      <td>NaT</td>\n",
       "      <td>NaN</td>\n",
       "      <td>True</td>\n",
       "    </tr>\n",
       "    <tr>\n",
       "      <th>8518</th>\n",
       "      <td>a100005696</td>\n",
       "      <td>2018-01-31</td>\n",
       "      <td>Instagram</td>\n",
       "      <td>personalization</td>\n",
       "      <td>False</td>\n",
       "      <td>English</td>\n",
       "      <td>English</td>\n",
       "      <td>30-36 years</td>\n",
       "      <td>NaT</td>\n",
       "      <td>NaT</td>\n",
       "      <td>NaN</td>\n",
       "      <td>True</td>\n",
       "    </tr>\n",
       "  </tbody>\n",
       "</table>\n",
       "<p>268 rows × 12 columns</p>\n",
       "</div>"
      ],
      "text/plain": [
       "         user_id date_served marketing_channel          variant  converted  \\\n",
       "445   a100000617  2018-01-30          Facebook          control       True   \n",
       "446   a100000617  2018-01-30          Facebook          control      False   \n",
       "447   a100000618  2018-01-31          Facebook          control       True   \n",
       "448   a100000618  2018-01-31          Facebook          control      False   \n",
       "449   a100000619  2018-01-21          Facebook          control       True   \n",
       "...          ...         ...               ...              ...        ...   \n",
       "8514  a100005694  2018-01-31              Push  personalization      False   \n",
       "8515  a100005695  2018-01-31         House Ads  personalization      False   \n",
       "8516  a100005695  2018-01-31          Facebook  personalization      False   \n",
       "8517  a100005696  2018-01-31         House Ads  personalization      False   \n",
       "8518  a100005696  2018-01-31         Instagram  personalization      False   \n",
       "\n",
       "     language_displayed language_preferred    age_group date_subscribed  \\\n",
       "445             English            English    55+ years      2018-01-30   \n",
       "446             English            English    55+ years      2018-01-30   \n",
       "447             English            English   0-18 years      2018-01-31   \n",
       "448             English            English   0-18 years      2018-01-31   \n",
       "449             English            English  19-24 years      2018-01-21   \n",
       "...                 ...                ...          ...             ...   \n",
       "8514            English            English  19-24 years             NaT   \n",
       "8515            English            English  24-30 years             NaT   \n",
       "8516            English            English  24-30 years             NaT   \n",
       "8517            English            English  30-36 years             NaT   \n",
       "8518            English            English  30-36 years             NaT   \n",
       "\n",
       "     date_canceled subscribing_channel  is_retained  \n",
       "445            NaT            Facebook         True  \n",
       "446            NaT            Facebook         True  \n",
       "447            NaT            Facebook         True  \n",
       "448            NaT            Facebook         True  \n",
       "449            NaT            Facebook         True  \n",
       "...            ...                 ...          ...  \n",
       "8514           NaT                 NaN         True  \n",
       "8515           NaT                 NaN         True  \n",
       "8516           NaT                 NaN         True  \n",
       "8517           NaT                 NaN         True  \n",
       "8518           NaT                 NaN         True  \n",
       "\n",
       "[268 rows x 12 columns]"
      ]
     },
     "execution_count": 11,
     "metadata": {},
     "output_type": "execute_result"
    }
   ],
   "source": [
    "nunique_date_per_user = duplicate_user_dates.groupby(['user_id']).date_served.nunique() #number of unique dates viewed for each user\n",
    "\n",
    "indx = [] #list will contain some of the users who saw the ad muliple times on the same day\n",
    "for index, row in dat.iterrows():\n",
    "    if dat.loc[index,'user_id'] in nunique_date_per_user[nunique_date_per_user==1].index:\n",
    "        indx.append(index)\n",
    "\n",
    "dat.loc[indx]"
   ]
  },
  {
   "cell_type": "markdown",
   "metadata": {},
   "source": [
    "7. Lastly, for each user, are 'language_displayed' and 'language_preferred' consistent? Yes, except a few users who set two displayed/preferred languages."
   ]
  },
  {
   "cell_type": "code",
   "execution_count": 12,
   "metadata": {},
   "outputs": [
    {
     "data": {
      "text/plain": [
       "array([[<AxesSubplot:title={'center':'lang_disp_per_user'}>,\n",
       "        <AxesSubplot:title={'center':'lang_pref_per_user'}>]],\n",
       "      dtype=object)"
      ]
     },
     "execution_count": 12,
     "metadata": {},
     "output_type": "execute_result"
    },
    {
     "data": {
      "image/png": "[encoded data removed]",
      "text/plain": [
       "<Figure size 432x288 with 2 Axes>"
      ]
     },
     "metadata": {
      "needs_background": "light"
     },
     "output_type": "display_data"
    }
   ],
   "source": [
    "lang_disp_per_user = dat.groupby(['user_id']).language_displayed.nunique().to_frame()\n",
    "lang_pref_per_user = dat.groupby(['user_id']).language_preferred.nunique().to_frame()\n",
    "\n",
    "df = pd.concat([lang_disp_per_user, lang_pref_per_user], axis=1, ignore_index=True)\n",
    "df.columns = ['lang_disp_per_user', 'lang_pref_per_user']\n",
    "\n",
    "df.hist(align='left')"
   ]
  },
  {
   "cell_type": "markdown",
   "metadata": {},
   "source": [
    "8. How are data different for users who set more than one language? Looking at the data, it can be observed that for some of these users, the 'marketing_channel','converted', and 'age_group' are different. This shows that for some of these users, their data can be merged together to result in better data quality. It's hard to tell whether each of the instance was created because the user saw the ad multiple times on the same day or because the user made changes  to age and languages. One **solution** could be that the data captures only the most recent information on age, preferred and displayed languages, even if users make multiple changes after subscription."
   ]
  },
  {
   "cell_type": "code",
   "execution_count": 13,
   "metadata": {},
   "outputs": [
    {
     "data": {
      "text/html": [
       "<div>\n",
       "<style scoped>\n",
       "    .dataframe tbody tr th:only-of-type {\n",
       "        vertical-align: middle;\n",
       "    }\n",
       "\n",
       "    .dataframe tbody tr th {\n",
       "        vertical-align: top;\n",
       "    }\n",
       "\n",
       "    .dataframe thead th {\n",
       "        text-align: right;\n",
       "    }\n",
       "</style>\n",
       "<table border=\"1\" class=\"dataframe\">\n",
       "  <thead>\n",
       "    <tr style=\"text-align: right;\">\n",
       "      <th></th>\n",
       "      <th>user_id</th>\n",
       "      <th>date_served</th>\n",
       "      <th>marketing_channel</th>\n",
       "      <th>variant</th>\n",
       "      <th>converted</th>\n",
       "      <th>language_displayed</th>\n",
       "      <th>language_preferred</th>\n",
       "      <th>age_group</th>\n",
       "      <th>date_subscribed</th>\n",
       "      <th>date_canceled</th>\n",
       "      <th>subscribing_channel</th>\n",
       "      <th>is_retained</th>\n",
       "    </tr>\n",
       "  </thead>\n",
       "  <tbody>\n",
       "    <tr>\n",
       "      <th>561</th>\n",
       "      <td>a100000727</td>\n",
       "      <td>2018-01-17</td>\n",
       "      <td>Email</td>\n",
       "      <td>control</td>\n",
       "      <td>True</td>\n",
       "      <td>Arabic</td>\n",
       "      <td>Arabic</td>\n",
       "      <td>0-18 years</td>\n",
       "      <td>2018-01-17</td>\n",
       "      <td>NaT</td>\n",
       "      <td>Email</td>\n",
       "      <td>True</td>\n",
       "    </tr>\n",
       "    <tr>\n",
       "      <th>562</th>\n",
       "      <td>a100000727</td>\n",
       "      <td>2018-01-05</td>\n",
       "      <td>House Ads</td>\n",
       "      <td>control</td>\n",
       "      <td>False</td>\n",
       "      <td>English</td>\n",
       "      <td>English</td>\n",
       "      <td>0-18 years</td>\n",
       "      <td>2018-01-17</td>\n",
       "      <td>NaT</td>\n",
       "      <td>Email</td>\n",
       "      <td>True</td>\n",
       "    </tr>\n",
       "    <tr>\n",
       "      <th>585</th>\n",
       "      <td>a100000739</td>\n",
       "      <td>2018-01-16</td>\n",
       "      <td>Email</td>\n",
       "      <td>control</td>\n",
       "      <td>True</td>\n",
       "      <td>Arabic</td>\n",
       "      <td>Arabic</td>\n",
       "      <td>45-55 years</td>\n",
       "      <td>2018-01-16</td>\n",
       "      <td>2018-03-27</td>\n",
       "      <td>Email</td>\n",
       "      <td>False</td>\n",
       "    </tr>\n",
       "    <tr>\n",
       "      <th>586</th>\n",
       "      <td>a100000739</td>\n",
       "      <td>2018-01-05</td>\n",
       "      <td>House Ads</td>\n",
       "      <td>control</td>\n",
       "      <td>False</td>\n",
       "      <td>English</td>\n",
       "      <td>English</td>\n",
       "      <td>45-55 years</td>\n",
       "      <td>2018-01-16</td>\n",
       "      <td>2018-03-27</td>\n",
       "      <td>Email</td>\n",
       "      <td>False</td>\n",
       "    </tr>\n",
       "    <tr>\n",
       "      <th>619</th>\n",
       "      <td>a100000776</td>\n",
       "      <td>2018-01-17</td>\n",
       "      <td>Email</td>\n",
       "      <td>personalization</td>\n",
       "      <td>False</td>\n",
       "      <td>Arabic</td>\n",
       "      <td>Arabic</td>\n",
       "      <td>55+ years</td>\n",
       "      <td>2018-01-17</td>\n",
       "      <td>NaT</td>\n",
       "      <td>Email</td>\n",
       "      <td>True</td>\n",
       "    </tr>\n",
       "    <tr>\n",
       "      <th>...</th>\n",
       "      <td>...</td>\n",
       "      <td>...</td>\n",
       "      <td>...</td>\n",
       "      <td>...</td>\n",
       "      <td>...</td>\n",
       "      <td>...</td>\n",
       "      <td>...</td>\n",
       "      <td>...</td>\n",
       "      <td>...</td>\n",
       "      <td>...</td>\n",
       "      <td>...</td>\n",
       "      <td>...</td>\n",
       "    </tr>\n",
       "    <tr>\n",
       "      <th>2513</th>\n",
       "      <td>a100000913</td>\n",
       "      <td>2018-01-03</td>\n",
       "      <td>House Ads</td>\n",
       "      <td>control</td>\n",
       "      <td>False</td>\n",
       "      <td>Spanish</td>\n",
       "      <td>Spanish</td>\n",
       "      <td>45-55 years</td>\n",
       "      <td>NaT</td>\n",
       "      <td>NaT</td>\n",
       "      <td>NaN</td>\n",
       "      <td>True</td>\n",
       "    </tr>\n",
       "    <tr>\n",
       "      <th>2518</th>\n",
       "      <td>a100000916</td>\n",
       "      <td>2018-01-28</td>\n",
       "      <td>House Ads</td>\n",
       "      <td>control</td>\n",
       "      <td>False</td>\n",
       "      <td>English</td>\n",
       "      <td>Spanish</td>\n",
       "      <td>19-24 years</td>\n",
       "      <td>NaT</td>\n",
       "      <td>NaT</td>\n",
       "      <td>NaN</td>\n",
       "      <td>True</td>\n",
       "    </tr>\n",
       "    <tr>\n",
       "      <th>2519</th>\n",
       "      <td>a100000916</td>\n",
       "      <td>2018-01-03</td>\n",
       "      <td>Instagram</td>\n",
       "      <td>control</td>\n",
       "      <td>False</td>\n",
       "      <td>English</td>\n",
       "      <td>English</td>\n",
       "      <td>24-30 years</td>\n",
       "      <td>NaT</td>\n",
       "      <td>NaT</td>\n",
       "      <td>NaN</td>\n",
       "      <td>True</td>\n",
       "    </tr>\n",
       "    <tr>\n",
       "      <th>2532</th>\n",
       "      <td>a100000944</td>\n",
       "      <td>2018-01-30</td>\n",
       "      <td>Instagram</td>\n",
       "      <td>control</td>\n",
       "      <td>False</td>\n",
       "      <td>English</td>\n",
       "      <td>English</td>\n",
       "      <td>0-18 years</td>\n",
       "      <td>NaT</td>\n",
       "      <td>NaT</td>\n",
       "      <td>NaN</td>\n",
       "      <td>True</td>\n",
       "    </tr>\n",
       "    <tr>\n",
       "      <th>2533</th>\n",
       "      <td>a100000944</td>\n",
       "      <td>2018-01-05</td>\n",
       "      <td>House Ads</td>\n",
       "      <td>control</td>\n",
       "      <td>False</td>\n",
       "      <td>Spanish</td>\n",
       "      <td>Spanish</td>\n",
       "      <td>19-24 years</td>\n",
       "      <td>NaT</td>\n",
       "      <td>NaT</td>\n",
       "      <td>NaN</td>\n",
       "      <td>True</td>\n",
       "    </tr>\n",
       "  </tbody>\n",
       "</table>\n",
       "<p>123 rows × 12 columns</p>\n",
       "</div>"
      ],
      "text/plain": [
       "         user_id date_served marketing_channel          variant  converted  \\\n",
       "561   a100000727  2018-01-17             Email          control       True   \n",
       "562   a100000727  2018-01-05         House Ads          control      False   \n",
       "585   a100000739  2018-01-16             Email          control       True   \n",
       "586   a100000739  2018-01-05         House Ads          control      False   \n",
       "619   a100000776  2018-01-17             Email  personalization      False   \n",
       "...          ...         ...               ...              ...        ...   \n",
       "2513  a100000913  2018-01-03         House Ads          control      False   \n",
       "2518  a100000916  2018-01-28         House Ads          control      False   \n",
       "2519  a100000916  2018-01-03         Instagram          control      False   \n",
       "2532  a100000944  2018-01-30         Instagram          control      False   \n",
       "2533  a100000944  2018-01-05         House Ads          control      False   \n",
       "\n",
       "     language_displayed language_preferred    age_group date_subscribed  \\\n",
       "561              Arabic             Arabic   0-18 years      2018-01-17   \n",
       "562             English            English   0-18 years      2018-01-17   \n",
       "585              Arabic             Arabic  45-55 years      2018-01-16   \n",
       "586             English            English  45-55 years      2018-01-16   \n",
       "619              Arabic             Arabic    55+ years      2018-01-17   \n",
       "...                 ...                ...          ...             ...   \n",
       "2513            Spanish            Spanish  45-55 years             NaT   \n",
       "2518            English            Spanish  19-24 years             NaT   \n",
       "2519            English            English  24-30 years             NaT   \n",
       "2532            English            English   0-18 years             NaT   \n",
       "2533            Spanish            Spanish  19-24 years             NaT   \n",
       "\n",
       "     date_canceled subscribing_channel  is_retained  \n",
       "561            NaT               Email         True  \n",
       "562            NaT               Email         True  \n",
       "585     2018-03-27               Email        False  \n",
       "586     2018-03-27               Email        False  \n",
       "619            NaT               Email         True  \n",
       "...            ...                 ...          ...  \n",
       "2513           NaT                 NaN         True  \n",
       "2518           NaT                 NaN         True  \n",
       "2519           NaT                 NaN         True  \n",
       "2532           NaT                 NaN         True  \n",
       "2533           NaT                 NaN         True  \n",
       "\n",
       "[123 rows x 12 columns]"
      ]
     },
     "execution_count": 13,
     "metadata": {},
     "output_type": "execute_result"
    }
   ],
   "source": [
    "language = dat.groupby(['user_id']).language_preferred.nunique()\n",
    "user_mult_language = language[language>1].index\n",
    "\n",
    "indx = []\n",
    "for index, row in dat.iterrows():\n",
    "    if dat.loc[index, 'user_id'] in user_mult_language:\n",
    "        indx.append(index)\n",
    "        \n",
    "dat.loc[indx, :]"
   ]
  },
  {
   "cell_type": "markdown",
   "metadata": {},
   "source": [
    "# 4. Calculate conversion rates"
   ]
  },
  {
   "cell_type": "markdown",
   "metadata": {},
   "source": [
    "What is the overall conversion rate? "
   ]
  },
  {
   "cell_type": "code",
   "execution_count": 14,
   "metadata": {},
   "outputs": [
    {
     "name": "stdout",
     "output_type": "stream",
     "text": [
      "The overall conversion rate is 10.87%\n"
     ]
    }
   ],
   "source": [
    "overall_cr = sum(dat.converted==True)/len(dat)\n",
    "print(\"The overall conversion rate is \"+ str(round(overall_cr*100, 2)) + \"%\")"
   ]
  },
  {
   "cell_type": "markdown",
   "metadata": {},
   "source": [
    "How are the conversion rates different for each marketing channel? Email has the highest conversion rate (34.2%) while House Ads has the lowest conversion rate (6.3%). Instagram (14.2%) and Facebook (12.7%) have similar conversion rates."
   ]
  },
  {
   "cell_type": "code",
   "execution_count": 15,
   "metadata": {},
   "outputs": [
    {
     "data": {
      "text/plain": [
       "marketing_channel\n",
       "Email        34.159292\n",
       "Instagram    14.163549\n",
       "Facebook     12.741935\n",
       "Push          8.358510\n",
       "House Ads     6.296218\n",
       "dtype: float64"
      ]
     },
     "execution_count": 15,
     "metadata": {},
     "output_type": "execute_result"
    }
   ],
   "source": [
    "df = dat[dat.marketing_channel.notnull()] #only non-null values should be considered\n",
    "\n",
    "channel_cr = df.groupby(['marketing_channel']).converted.sum() / df.groupby(['marketing_channel']).marketing_channel.count() *100\n",
    "channel_cr.sort_values(ascending=False)"
   ]
  },
  {
   "cell_type": "markdown",
   "metadata": {},
   "source": [
    "How are the conversion rates different between age groups? Ages 18-24 have the highest conversion rate (18.9%) while ages 36-45 have the lowest (5.9%). It seems that older the age group is, lower the conversation rate is in general (see graph below)."
   ]
  },
  {
   "cell_type": "code",
   "execution_count": 16,
   "metadata": {},
   "outputs": [
    {
     "data": {
      "text/plain": [
       "age_group\n",
       "19-24 years    18.891538\n",
       "24-30 years    15.325670\n",
       "0-18 years     13.207547\n",
       "55+ years       7.172996\n",
       "30-36 years     6.208426\n",
       "45-55 years     6.069578\n",
       "36-45 years     5.921540\n",
       "dtype: float64"
      ]
     },
     "execution_count": 16,
     "metadata": {},
     "output_type": "execute_result"
    }
   ],
   "source": [
    "df = dat[dat.age_group.notnull()] #only non-null values should be considered\n",
    "\n",
    "age_cr = df.groupby(['age_group']).converted.sum() / df.groupby(['age_group']).date_served.count() *100\n",
    "age_cr.sort_values(ascending=False)"
   ]
  },
  {
   "cell_type": "code",
   "execution_count": 17,
   "metadata": {},
   "outputs": [
    {
     "data": {
      "text/plain": [
       "<AxesSubplot:xlabel='age_group'>"
      ]
     },
     "execution_count": 17,
     "metadata": {},
     "output_type": "execute_result"
    },
    {
     "data": {
      "image/png": "[encoded data removed]",
      "text/plain": [
       "<Figure size 432x288 with 1 Axes>"
      ]
     },
     "metadata": {
      "needs_background": "light"
     },
     "output_type": "display_data"
    }
   ],
   "source": [
    "age_cr.plot()"
   ]
  },
  {
   "cell_type": "markdown",
   "metadata": {},
   "source": [
    "For those who subscribed, how long apart were the subscription date and the date the ad was viewed on average? On average, users subscribed on the same day the ad was shown to them!"
   ]
  },
  {
   "cell_type": "code",
   "execution_count": 18,
   "metadata": {},
   "outputs": [
    {
     "data": {
      "text/plain": [
       "Timedelta('0 days 00:00:00')"
      ]
     },
     "execution_count": 18,
     "metadata": {},
     "output_type": "execute_result"
    }
   ],
   "source": [
    "days_avg = dat[dat.converted].date_subscribed.mean() - dat[dat.converted].date_served.mean()\n",
    "\n",
    "days_avg.round(freq = 'D') "
   ]
  },
  {
   "cell_type": "markdown",
   "metadata": {},
   "source": [
    "What is the most cost-effective marketing channel? It is assumed that each data instance describes each time a new email, Facebook post, Instagram post or direct mail reaches a potentional client redundantly or for the first time. The table below shoes the number of times each marketing channel was viewed/received. Note that the cost of push marketing could not be estimated since its strategies can vary diversely by company (no detail was given). \n",
    "\n",
    "During the campaign, there was 565 views of the email. The cost of email marketing varies by service platform, number of subscribers, and number of target viewers. On service platform like MailChimp, sending emails to 500 contacts can cost as little as 0 dollars for very basic options and as much as 300 dollars/month for more sophisticated customization. If graphic design and writing are outsourced, there would be additional 80 dollars/hr and 150 dollars/hr cost (averages), according to https://www.thumbtack.com/p/email-marketing-price. \n",
    "\n",
    "For Facebook posts, there was a total of 1860 views. If the campaign chose cost-per-thousand-impressions method (CPM), it may have costed approximately 14.38 dollars (7.19/1000 views). However, if it was cost-per-click method (CPC), it may have costed about 1,804.2 dollars (0.97/click). (https://www.webfx.com/social-media/how-much-does-facebook-advertising-cost.html)\n",
    "\n",
    "Instagram posts made 1871 impressions. CPM method would have costed about 13.4 dollars (6.70/1000 impressions) and CPC would have costed about 3,742 dollars (2/click). (https://www.webfx.com/social-media/how-much-does-it-cost-to-advertise-on-instagram.html) Note that the rates of CPM and CPC used here are only averages and they can vary widely by how competitve the market is on Instagram. \n",
    "\n",
    "Lastly, about 4733 direct mails (House Ads) were sent. According to USPS Delivers (https://www.uspsdelivers.com/direct-mail-cost-calculator/), direct mail campaign of 5000 mailings can cost as little as 6,400 dollars for basic design and simple mailing method, and can cost as much as 10,496.89 dollars which includes outsourcing fees for design and purchase of list of targeted potential customers to be mailed to.\n",
    "\n",
    "See the table below for summary of the potential costs of each marketing channel."
   ]
  },
  {
   "cell_type": "code",
   "execution_count": 42,
   "metadata": {},
   "outputs": [
    {
     "data": {
      "text/plain": [
       "marketing_channel\n",
       "Email         565\n",
       "Facebook     1860\n",
       "House Ads    4733\n",
       "Instagram    1871\n",
       "Name: user_id, dtype: int64"
      ]
     },
     "execution_count": 42,
     "metadata": {},
     "output_type": "execute_result"
    }
   ],
   "source": [
    "# Number of times each marketing channel was viewed/received\n",
    "dat.groupby(['marketing_channel']).user_id.count()[:4]"
   ]
  },
  {
   "cell_type": "code",
   "execution_count": 50,
   "metadata": {},
   "outputs": [
    {
     "name": "stdout",
     "output_type": "stream",
     "text": [
      "          Email  Facebook  Instagram  House Ads\n",
      "min cost      0     14.38       13.4    6400.00\n",
      "max cost    530   1804.20     3742.0   10496.89\n"
     ]
    }
   ],
   "source": [
    "# Potential cost ($) per campaign of each marketing channel \n",
    "potential_costs = pd.DataFrame({\"Email\":[0, 530], \"Facebook\": [14.38, 1804.2], \n",
    "                               \"Instagram\":[13.4, 3742], \"House Ads\":[6400, 10496.89]})\n",
    "potential_costs.index = [\"min cost\",\"max cost\"]\n",
    "\n",
    "print(potential_costs)"
   ]
  },
  {
   "cell_type": "markdown",
   "metadata": {},
   "source": [
    "So which marketing channel was the most cost-effective? For both minimum and maximum estimations, email had the lowest cost-per-acquisition while direct mail (House Ads) had the highest cost-per-acquisition."
   ]
  },
  {
   "cell_type": "code",
   "execution_count": 56,
   "metadata": {},
   "outputs": [
    {
     "data": {
      "text/html": [
       "<div>\n",
       "<style scoped>\n",
       "    .dataframe tbody tr th:only-of-type {\n",
       "        vertical-align: middle;\n",
       "    }\n",
       "\n",
       "    .dataframe tbody tr th {\n",
       "        vertical-align: top;\n",
       "    }\n",
       "\n",
       "    .dataframe thead th {\n",
       "        text-align: right;\n",
       "    }\n",
       "</style>\n",
       "<table border=\"1\" class=\"dataframe\">\n",
       "  <thead>\n",
       "    <tr style=\"text-align: right;\">\n",
       "      <th></th>\n",
       "      <th>Email</th>\n",
       "      <th>Facebook</th>\n",
       "      <th>Instagram</th>\n",
       "      <th>House Ads</th>\n",
       "    </tr>\n",
       "  </thead>\n",
       "  <tbody>\n",
       "    <tr>\n",
       "      <th>min cost</th>\n",
       "      <td>0.00</td>\n",
       "      <td>0.06</td>\n",
       "      <td>0.05</td>\n",
       "      <td>21.48</td>\n",
       "    </tr>\n",
       "    <tr>\n",
       "      <th>max cost</th>\n",
       "      <td>2.75</td>\n",
       "      <td>7.61</td>\n",
       "      <td>14.12</td>\n",
       "      <td>35.22</td>\n",
       "    </tr>\n",
       "  </tbody>\n",
       "</table>\n",
       "</div>"
      ],
      "text/plain": [
       "          Email  Facebook  Instagram  House Ads\n",
       "min cost   0.00      0.06       0.05      21.48\n",
       "max cost   2.75      7.61      14.12      35.22"
      ]
     },
     "execution_count": 56,
     "metadata": {},
     "output_type": "execute_result"
    }
   ],
   "source": [
    "# Minimum and maximum cost-per-acquisition ($) of each marketing channel\n",
    "round(potential_costs / np.array(dat.groupby(['marketing_channel']).converted.sum()[:4].sort_values()),2)"
   ]
  },
  {
   "cell_type": "markdown",
   "metadata": {},
   "source": [
    "# 5. Calculate retention rates"
   ]
  },
  {
   "cell_type": "markdown",
   "metadata": {},
   "source": [
    "Since retention rate should consider the case of unique users, the dataset should contain only unique subscribers. Note that each instance/observation in the data represents each time a user views the ad (each instance does not represent each unique user), so it is possible that the same user contributes to multiple 'is_retained'=True in the data. This should be avoided."
   ]
  },
  {
   "cell_type": "code",
   "execution_count": 167,
   "metadata": {},
   "outputs": [
    {
     "name": "stdout",
     "output_type": "stream",
     "text": [
      "The overall retention rate is 67.57%\n"
     ]
    }
   ],
   "source": [
    "unique_subscribers = dat[dat.converted==True].groupby(['user_id'])\n",
    "unique_remained = unique_subscribers.is_retained.sum()>0\n",
    "\n",
    "print(\"The overall retention rate is \"\n",
    "      + str(round(sum(unique_remained) / len(unique_subscribers) * 100, 2)) + \"%\")\n",
    "# note: because the data was grouped by 'user_id', and then was filtered by unique_subscribers.is_retained.sum()>0,\n",
    "# only unique users who remained subscribed, regardless how many times, are considered."
   ]
  },
  {
   "cell_type": "markdown",
   "metadata": {},
   "source": [
    "How are the retention rates different for each age group? From the exploratory data analysis, it was learned that few users had changed their age group, resulting in users with several different 'age_group' values. These users should not be considered in this analysis. \n",
    "\n",
    "Ages 19-24 have the highest retention rate (69.9%) while ages 45-55 have the lowest (62.2%). It is interesting that there is no apparent relationship between age and retention rate (see the plot below)."
   ]
  },
  {
   "cell_type": "code",
   "execution_count": 178,
   "metadata": {},
   "outputs": [
    {
     "data": {
      "text/plain": [
       "age_group\n",
       "19-24 years    69.899666\n",
       "30-36 years    68.421053\n",
       "24-30 years    66.517857\n",
       "0-18 years     65.775401\n",
       "55+ years      65.753425\n",
       "36-45 years    62.162162\n",
       "45-55 years    62.162162\n",
       "dtype: float64"
      ]
     },
     "execution_count": 178,
     "metadata": {},
     "output_type": "execute_result"
    }
   ],
   "source": [
    "temp = unique_remained[unique_subscribers.age_group.count()==1]\n",
    "converted = dat[dat.converted==True]\n",
    "\n",
    "indx = []\n",
    "for index, row in converted.iterrows():\n",
    "    if converted.loc[index,'user_id'] in temp.index:\n",
    "        indx.append(index)\n",
    "        \n",
    "df = converted.loc[indx] #dataset containing unique users who remained subscribed and consistenly indicated their age group\n",
    "\n",
    "age_rr = df.groupby(['age_group']).is_retained.sum() / df.groupby(['age_group']).age_group.count() * 100\n",
    "age_rr.sort_values(ascending = False)"
   ]
  },
  {
   "cell_type": "code",
   "execution_count": 179,
   "metadata": {},
   "outputs": [
    {
     "data": {
      "text/plain": [
       "<AxesSubplot:xlabel='age_group'>"
      ]
     },
     "execution_count": 179,
     "metadata": {},
     "output_type": "execute_result"
    },
    {
     "data": {
      "image/png": "[encoded data removed]",
      "text/plain": [
       "<Figure size 432x288 with 1 Axes>"
      ]
     },
     "metadata": {
      "needs_background": "light"
     },
     "output_type": "display_data"
    }
   ],
   "source": [
    "age_rr.plot()"
   ]
  },
  {
   "cell_type": "markdown",
   "metadata": {},
   "source": [
    "The retention rate for users whose language displayed does not match with their language preferred is 51.9%, about 16% lower than the overall retention rate (67.6%), as expected."
   ]
  },
  {
   "cell_type": "code",
   "execution_count": 194,
   "metadata": {},
   "outputs": [
    {
     "name": "stdout",
     "output_type": "stream",
     "text": [
      "51.85%\n"
     ]
    }
   ],
   "source": [
    "df = converted[converted.language_displayed.notnull()]\n",
    "\n",
    "language_match_df = df[df.language_displayed!=df.language_preferred]\n",
    "print(str(round(sum(language_match_df.is_retained)/len(language_match_df) * 100, 2)) + \"%\")"
   ]
  },
  {
   "cell_type": "markdown",
   "metadata": {},
   "source": [
    "For those who canceled their subscription, how long apart were the subscription date and the cancelation date on average? Approximately 48 days."
   ]
  },
  {
   "cell_type": "code",
   "execution_count": 227,
   "metadata": {},
   "outputs": [
    {
     "data": {
      "text/plain": [
       "Timedelta('48 days 00:00:00')"
      ]
     },
     "execution_count": 227,
     "metadata": {},
     "output_type": "execute_result"
    }
   ],
   "source": [
    "days_avg = converted[converted.is_retained == False].date_canceled.mean() -  converted[converted.is_retained == False].date_subscribed.mean()\n",
    "days_avg.round(freq = 'D')"
   ]
  },
  {
   "cell_type": "markdown",
   "metadata": {},
   "source": [
    "# 6. Conclusion"
   ]
  },
  {
   "cell_type": "markdown",
   "metadata": {},
   "source": [
    "The conversion rate of the marketing campaign was 11% where email as marketing channel was the most successful in subscring users and the most cost-effective while house ads was the least successful and the least cost-effective. On average, users subscribed on the same day they saw the ad. Starting from age 19, conversion rates tend to decrease as users are in older age groups. To improve conversion rates while keeping cost-per-acquisition low, the efforts on direct mailing should be diverted towards email, Facebook and Instagram (depending on target client) marketing instead.\n",
    "\n",
    "The retention rate was 68% and users canceled their subscription after 48 days on average. Ages 19 to 24 had the highest retention rate while ages 45 to 55 had the lowest. Furthermore, there seems to be no apparent relationship between age and retention rate. Users whose displayed languaged matched with their preferred language tend to remained subscribed.To improve retention, email newsletters could be sent during the first 48 days to encourage users' engagement with the product.\n",
    "\n",
    "As a next step, user data analysis can be conducted on recent subscribers to understand their behaviour in the first 48 days and find opportunities to improve their engagment."
   ]
  }
 ],
 "metadata": {
  "kernelspec": {
   "display_name": "Python 3",
   "language": "python",
   "name": "python3"
  },
  "language_info": {
   "codemirror_mode": {
    "name": "ipython",
    "version": 3
   },
   "file_extension": ".py",
   "mimetype": "text/x-python",
   "name": "python",
   "nbconvert_exporter": "python",
   "pygments_lexer": "ipython3",
   "version": "3.8.2"
  }
 },
 "nbformat": 4,
 "nbformat_minor": 2
}
